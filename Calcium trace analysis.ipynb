{
 "cells": [
  {
   "cell_type": "markdown",
   "metadata": {},
   "source": [
    "# milliPillar calcium tissue batch analysis\n",
    "#### Author: Youngbin Kim\n",
    "#### Last updated: 06/23/21"
   ]
  },
  {
   "cell_type": "markdown",
   "metadata": {},
   "source": [
    "### Import packages"
   ]
  },
  {
   "cell_type": "code",
   "execution_count": 1,
   "metadata": {
    "ExecuteTime": {
     "end_time": "2021-05-10T19:15:08.410199Z",
     "start_time": "2021-05-10T19:15:01.833601Z"
    }
   },
   "outputs": [],
   "source": [
    "import millipillar as mp\n",
    "import matplotlib.pyplot as plt\n",
    "import plotly.express as px\n",
    "import pandas as pd\n",
    "import numpy as np\n",
    "import os.path\n",
    "import glob\n",
    "import tkinter as tk\n",
    "from tkinter import filedialog"
   ]
  },
  {
   "cell_type": "markdown",
   "metadata": {},
   "source": [
    "### Select folder containing videos to be analyzed"
   ]
  },
  {
   "cell_type": "markdown",
   "metadata": {},
   "source": [
    "#### For ND2 files"
   ]
  },
  {
   "cell_type": "code",
   "execution_count": 2,
   "metadata": {
    "ExecuteTime": {
     "end_time": "2021-05-10T19:25:42.190157Z",
     "start_time": "2021-05-10T19:25:35.659733Z"
    }
   },
   "outputs": [
    {
     "name": "stdout",
     "output_type": "stream",
     "text": [
      "4 files detected\n"
     ]
    }
   ],
   "source": [
    "# asks for file path of your video\n",
    "root = tk.Tk()\n",
    "root.withdraw()\n",
    "root.call('wm', 'attributes', '.', '-topmost', True)\n",
    "folder_path = filedialog.askdirectory()\n",
    "file_paths = glob.glob(os.path.join(folder_path, \"**/*.nd2\"), recursive=True)\n",
    "print(len(file_paths), \"files detected\")"
   ]
  },
  {
   "cell_type": "markdown",
   "metadata": {},
   "source": [
    "#### For tif files"
   ]
  },
  {
   "cell_type": "code",
   "execution_count": 2,
   "metadata": {
    "ExecuteTime": {
     "end_time": "2021-04-29T14:46:36.211484Z",
     "start_time": "2021-04-29T14:46:31.350743Z"
    },
    "scrolled": true
   },
   "outputs": [
    {
     "name": "stdout",
     "output_type": "stream",
     "text": [
      "192 files detected\n"
     ]
    }
   ],
   "source": [
    "# asks for file path of your video\n",
    "root = tk.Tk()\n",
    "root.withdraw()\n",
    "root.call('wm', 'attributes', '.', '-topmost', True)\n",
    "folder_path = filedialog.askdirectory()\n",
    "file_paths = glob.glob(os.path.join(folder_path, \"**/*.tif\"), recursive=True)\n",
    "print(len(file_paths), \"files detected\")"
   ]
  },
  {
   "cell_type": "markdown",
   "metadata": {},
   "source": [
    "### Analyze all the videos in the folder and output a summary"
   ]
  },
  {
   "cell_type": "markdown",
   "metadata": {},
   "source": [
    "### for nd2"
   ]
  },
  {
   "cell_type": "code",
   "execution_count": 3,
   "metadata": {
    "ExecuteTime": {
     "end_time": "2021-05-10T19:25:59.992248Z",
     "start_time": "2021-05-10T19:25:46.935537Z"
    },
    "scrolled": true
   },
   "outputs": [
    {
     "name": "stdout",
     "output_type": "stream",
     "text": [
      "Processed 1 out of 4 videos.\n",
      "Processed 2 out of 4 videos.\n"
     ]
    },
    {
     "name": "stderr",
     "output_type": "stream",
     "text": [
      "C:\\Users\\Youngbin Lab\\anaconda3\\lib\\site-packages\\numpy\\core\\_methods.py:261: RuntimeWarning: Degrees of freedom <= 0 for slice\n",
      "  ret = _var(a, axis=axis, dtype=dtype, out=out, ddof=ddof,\n",
      "C:\\Users\\Youngbin Lab\\anaconda3\\lib\\site-packages\\numpy\\core\\_methods.py:221: RuntimeWarning: invalid value encountered in true_divide\n",
      "  arrmean = um.true_divide(arrmean, div, out=arrmean, casting='unsafe',\n",
      "C:\\Users\\Youngbin Lab\\anaconda3\\lib\\site-packages\\numpy\\core\\_methods.py:253: RuntimeWarning: invalid value encountered in double_scalars\n",
      "  ret = ret.dtype.type(ret / rcount)\n",
      "C:\\Users\\Youngbin Lab\\anaconda3\\lib\\site-packages\\numpy\\core\\fromnumeric.py:3419: RuntimeWarning: Mean of empty slice.\n",
      "  return _methods._mean(a, axis=axis, dtype=dtype,\n",
      "C:\\Users\\Youngbin Lab\\anaconda3\\lib\\site-packages\\numpy\\core\\_methods.py:188: RuntimeWarning: invalid value encountered in double_scalars\n",
      "  ret = ret.dtype.type(ret / rcount)\n",
      "C:\\Users\\Youngbin Lab\\Google Drive\\E\\Columbia\\GVN Lab\\Summer 2021\\millipillar code\\etmcr.py:188: RuntimeWarning: Mean of empty slice.\n",
      "  info['avg RR interval'] = [self.rr_interval.mean()]\n",
      "C:\\Users\\Youngbin Lab\\Google Drive\\E\\Columbia\\GVN Lab\\Summer 2021\\millipillar code\\etmcr.py:189: RuntimeWarning: Mean of empty slice.\n",
      "  info['avg tau'] = [self.tau.mean()]\n",
      "C:\\Users\\Youngbin Lab\\Google Drive\\E\\Columbia\\GVN Lab\\Summer 2021\\millipillar code\\etmcr.py:190: RuntimeWarning: Mean of empty slice.\n",
      "  info['avg fwhm'] = [self.fwhm.mean()]\n",
      "C:\\Users\\Youngbin Lab\\Google Drive\\E\\Columbia\\GVN Lab\\Summer 2021\\millipillar code\\etmcr.py:191: RuntimeWarning: Mean of empty slice.\n",
      "  info['avg contract50'] = [self.contract50.mean()]\n",
      "C:\\Users\\Youngbin Lab\\Google Drive\\E\\Columbia\\GVN Lab\\Summer 2021\\millipillar code\\etmcr.py:192: RuntimeWarning: Mean of empty slice.\n",
      "  info['avg relax50'] = [self.relax50.mean()]\n",
      "C:\\Users\\Youngbin Lab\\Google Drive\\E\\Columbia\\GVN Lab\\Summer 2021\\millipillar code\\etmcr.py:193: RuntimeWarning: Mean of empty slice.\n",
      "  info['avg fw90m'] = [self.fw90m.mean()]\n",
      "C:\\Users\\Youngbin Lab\\Google Drive\\E\\Columbia\\GVN Lab\\Summer 2021\\millipillar code\\etmcr.py:194: RuntimeWarning: Mean of empty slice.\n",
      "  info['avg contract90'] = [self.contract90.mean()]\n",
      "C:\\Users\\Youngbin Lab\\Google Drive\\E\\Columbia\\GVN Lab\\Summer 2021\\millipillar code\\etmcr.py:195: RuntimeWarning: Mean of empty slice.\n",
      "  info['avg relax90'] = [self.relax90.mean()]\n"
     ]
    },
    {
     "name": "stdout",
     "output_type": "stream",
     "text": [
      "Processed 3 out of 4 videos.\n",
      "Processed 4 out of 4 videos.\n"
     ]
    },
    {
     "data": {
      "text/html": [
       "<div>\n",
       "<style scoped>\n",
       "    .dataframe tbody tr th:only-of-type {\n",
       "        vertical-align: middle;\n",
       "    }\n",
       "\n",
       "    .dataframe tbody tr th {\n",
       "        vertical-align: top;\n",
       "    }\n",
       "\n",
       "    .dataframe thead th {\n",
       "        text-align: right;\n",
       "    }\n",
       "</style>\n",
       "<table border=\"1\" class=\"dataframe\">\n",
       "  <thead>\n",
       "    <tr style=\"text-align: right;\">\n",
       "      <th></th>\n",
       "      <th>num peaks</th>\n",
       "      <th>bpm</th>\n",
       "      <th>RMSSD</th>\n",
       "      <th>pRR50</th>\n",
       "      <th>max data</th>\n",
       "      <th>max df_f0</th>\n",
       "      <th>avg RR interval</th>\n",
       "      <th>avg tau</th>\n",
       "      <th>avg fwhm</th>\n",
       "      <th>avg contract50</th>\n",
       "      <th>...</th>\n",
       "      <th>avg relax90</th>\n",
       "      <th>SDRR</th>\n",
       "      <th>std tau</th>\n",
       "      <th>std fwhm</th>\n",
       "      <th>std contract50</th>\n",
       "      <th>std relax50</th>\n",
       "      <th>std fw90m</th>\n",
       "      <th>std contract90</th>\n",
       "      <th>std relax90</th>\n",
       "      <th>trace</th>\n",
       "    </tr>\n",
       "  </thead>\n",
       "  <tbody>\n",
       "    <tr>\n",
       "      <th>1</th>\n",
       "      <td>88</td>\n",
       "      <td>23.104522</td>\n",
       "      <td>2.863955</td>\n",
       "      <td>None</td>\n",
       "      <td>516.339668</td>\n",
       "      <td>0.214003</td>\n",
       "      <td>2.596894</td>\n",
       "      <td>0.293302</td>\n",
       "      <td>0.443867</td>\n",
       "      <td>0.206446</td>\n",
       "      <td>...</td>\n",
       "      <td>0.513192</td>\n",
       "      <td>1.207634</td>\n",
       "      <td>0.013490</td>\n",
       "      <td>0.004969</td>\n",
       "      <td>0.014724</td>\n",
       "      <td>0.013466</td>\n",
       "      <td>0.006083</td>\n",
       "      <td>0.013240</td>\n",
       "      <td>0.016039</td>\n",
       "      <td>&lt;etmcr.Trace object at 0x00000246619BE3D0&gt;</td>\n",
       "    </tr>\n",
       "    <tr>\n",
       "      <th>2</th>\n",
       "      <td>305</td>\n",
       "      <td>80.04226</td>\n",
       "      <td>0.901508</td>\n",
       "      <td>None</td>\n",
       "      <td>583.373738</td>\n",
       "      <td>0.186234</td>\n",
       "      <td>0.749604</td>\n",
       "      <td>0.226502</td>\n",
       "      <td>0.324480</td>\n",
       "      <td>0.137610</td>\n",
       "      <td>...</td>\n",
       "      <td>0.929539</td>\n",
       "      <td>0.500810</td>\n",
       "      <td>0.108259</td>\n",
       "      <td>0.112080</td>\n",
       "      <td>0.031396</td>\n",
       "      <td>0.101437</td>\n",
       "      <td>5.479604</td>\n",
       "      <td>0.664859</td>\n",
       "      <td>5.078451</td>\n",
       "      <td>&lt;etmcr.Trace object at 0x0000024661AA1490&gt;</td>\n",
       "    </tr>\n",
       "    <tr>\n",
       "      <th>3</th>\n",
       "      <td>0</td>\n",
       "      <td>None</td>\n",
       "      <td>NaN</td>\n",
       "      <td>None</td>\n",
       "      <td>580.375895</td>\n",
       "      <td>0.171999</td>\n",
       "      <td>NaN</td>\n",
       "      <td>NaN</td>\n",
       "      <td>NaN</td>\n",
       "      <td>NaN</td>\n",
       "      <td>...</td>\n",
       "      <td>NaN</td>\n",
       "      <td>NaN</td>\n",
       "      <td>NaN</td>\n",
       "      <td>NaN</td>\n",
       "      <td>NaN</td>\n",
       "      <td>NaN</td>\n",
       "      <td>NaN</td>\n",
       "      <td>NaN</td>\n",
       "      <td>NaN</td>\n",
       "      <td>&lt;etmcr.Trace object at 0x0000024661B3E5E0&gt;</td>\n",
       "    </tr>\n",
       "    <tr>\n",
       "      <th>4</th>\n",
       "      <td>0</td>\n",
       "      <td>None</td>\n",
       "      <td>NaN</td>\n",
       "      <td>None</td>\n",
       "      <td>596.046254</td>\n",
       "      <td>0.195304</td>\n",
       "      <td>NaN</td>\n",
       "      <td>NaN</td>\n",
       "      <td>NaN</td>\n",
       "      <td>NaN</td>\n",
       "      <td>...</td>\n",
       "      <td>NaN</td>\n",
       "      <td>NaN</td>\n",
       "      <td>NaN</td>\n",
       "      <td>NaN</td>\n",
       "      <td>NaN</td>\n",
       "      <td>NaN</td>\n",
       "      <td>NaN</td>\n",
       "      <td>NaN</td>\n",
       "      <td>NaN</td>\n",
       "      <td>&lt;etmcr.Trace object at 0x00000246619BE460&gt;</td>\n",
       "    </tr>\n",
       "  </tbody>\n",
       "</table>\n",
       "<p>4 rows × 23 columns</p>\n",
       "</div>"
      ],
      "text/plain": [
       "   num peaks        bpm     RMSSD pRR50    max data  max df_f0  \\\n",
       "1         88  23.104522  2.863955  None  516.339668   0.214003   \n",
       "2        305   80.04226  0.901508  None  583.373738   0.186234   \n",
       "3          0       None       NaN  None  580.375895   0.171999   \n",
       "4          0       None       NaN  None  596.046254   0.195304   \n",
       "\n",
       "   avg RR interval   avg tau  avg fwhm  avg contract50  ...  avg relax90  \\\n",
       "1         2.596894  0.293302  0.443867        0.206446  ...     0.513192   \n",
       "2         0.749604  0.226502  0.324480        0.137610  ...     0.929539   \n",
       "3              NaN       NaN       NaN             NaN  ...          NaN   \n",
       "4              NaN       NaN       NaN             NaN  ...          NaN   \n",
       "\n",
       "       SDRR   std tau  std fwhm  std contract50  std relax50  std fw90m  \\\n",
       "1  1.207634  0.013490  0.004969        0.014724     0.013466   0.006083   \n",
       "2  0.500810  0.108259  0.112080        0.031396     0.101437   5.479604   \n",
       "3       NaN       NaN       NaN             NaN          NaN        NaN   \n",
       "4       NaN       NaN       NaN             NaN          NaN        NaN   \n",
       "\n",
       "   std contract90  std relax90                                       trace  \n",
       "1        0.013240     0.016039  <etmcr.Trace object at 0x00000246619BE3D0>  \n",
       "2        0.664859     5.078451  <etmcr.Trace object at 0x0000024661AA1490>  \n",
       "3             NaN          NaN  <etmcr.Trace object at 0x0000024661B3E5E0>  \n",
       "4             NaN          NaN  <etmcr.Trace object at 0x00000246619BE460>  \n",
       "\n",
       "[4 rows x 23 columns]"
      ]
     },
     "execution_count": 3,
     "metadata": {},
     "output_type": "execute_result"
    }
   ],
   "source": [
    "#%%timeit\n",
    "total_summary = pd.DataFrame()\n",
    "traces = []\n",
    "for file_path in file_paths:\n",
    "    video = mp.Video(file_path, filetype=\"nd2\")\n",
    "    name = os.path.splitext(file_path.replace(folder_path+\"\\\\\", \"\"))[0]\n",
    "    trace = mp.Trace(data=video.trace, sampling_rate=video.frame_rate, name=name)\n",
    "    trace.analyze(baseline_fit=\"exp\")\n",
    "    traces.append(trace)\n",
    "    trace_summary = trace.summary()\n",
    "    trace_summary[\"trace\"] = trace\n",
    "    total_summary = total_summary.append(trace_summary)\n",
    "    print(\"Processed\", len(traces), \"out of\", len(file_paths), \"videos.\")\n",
    "total_summary"
   ]
  },
  {
   "cell_type": "markdown",
   "metadata": {},
   "source": [
    "### for tif videos"
   ]
  },
  {
   "cell_type": "code",
   "execution_count": null,
   "metadata": {
    "ExecuteTime": {
     "end_time": "2021-04-29T14:46:58.769891Z",
     "start_time": "2021-04-29T14:46:56.219619Z"
    }
   },
   "outputs": [
    {
     "name": "stdout",
     "output_type": "stream",
     "text": [
      "Processed 1 out of 192 videos.\n",
      "Processed 2 out of 192 videos.\n"
     ]
    },
    {
     "name": "stderr",
     "output_type": "stream",
     "text": [
      "C:\\Users\\Youngbin Lab\\Google Drive\\E\\Columbia\\GVN Lab\\Summer 2021\\millipillar code\\millipillar.py:156: RuntimeWarning: divide by zero encountered in power\n",
      "  return A*np.exp(-(t/tau)**(1-beta))+cons\n"
     ]
    },
    {
     "name": "stdout",
     "output_type": "stream",
     "text": [
      "Processed 3 out of 192 videos.\n"
     ]
    },
    {
     "name": "stderr",
     "output_type": "stream",
     "text": [
      "C:\\Users\\Youngbin Lab\\Google Drive\\E\\Columbia\\GVN Lab\\Summer 2021\\millipillar code\\millipillar.py:102: RuntimeWarning: invalid value encountered in long_scalars\n",
      "  self.pRR50 = (diff_rr > 0.05).sum() / len(diff_rr)\n"
     ]
    },
    {
     "name": "stdout",
     "output_type": "stream",
     "text": [
      "Processed 4 out of 192 videos.\n"
     ]
    }
   ],
   "source": [
    "#%%timeit\n",
    "total_summary = pd.DataFrame()\n",
    "traces = []\n",
    "for file_path in file_paths:\n",
    "    video = mp.Video(file_path, filetype=\"tif\", frame_rate=100)\n",
    "    name = os.path.splitext(file_path.replace(folder_path+\"\\\\\", \"\"))[0]\n",
    "    trace = mp.Trace(data=video.trace, sampling_rate=video.frame_rate, name=name)\n",
    "    trace.analyze(baseline_fit=\"exp\")\n",
    "    traces.append(trace)\n",
    "    trace_summary = trace.summary()\n",
    "    trace_summary[\"trace\"] = trace\n",
    "    total_summary = total_summary.append(trace_summary)\n",
    "    print(\"Processed\", len(traces), \"out of\", len(file_paths), \"videos.\")\n",
    "total_summary"
   ]
  },
  {
   "cell_type": "code",
   "execution_count": 51,
   "metadata": {
    "ExecuteTime": {
     "end_time": "2021-04-29T15:12:12.111171Z",
     "start_time": "2021-04-29T15:12:11.835286Z"
    }
   },
   "outputs": [
    {
     "data": {
      "text/html": [
       "<div>\n",
       "<style scoped>\n",
       "    .dataframe tbody tr th:only-of-type {\n",
       "        vertical-align: middle;\n",
       "    }\n",
       "\n",
       "    .dataframe tbody tr th {\n",
       "        vertical-align: top;\n",
       "    }\n",
       "\n",
       "    .dataframe thead th {\n",
       "        text-align: right;\n",
       "    }\n",
       "</style>\n",
       "<table border=\"1\" class=\"dataframe\">\n",
       "  <thead>\n",
       "    <tr style=\"text-align: right;\">\n",
       "      <th></th>\n",
       "      <th>num peaks</th>\n",
       "      <th>bpm</th>\n",
       "      <th>RMSSD</th>\n",
       "      <th>pRR50</th>\n",
       "      <th>avg RR interval</th>\n",
       "      <th>avg tau</th>\n",
       "      <th>avg fwhm</th>\n",
       "      <th>avg contract50</th>\n",
       "      <th>avg relax50</th>\n",
       "      <th>avg fw90m</th>\n",
       "      <th>...</th>\n",
       "      <th>SDRR</th>\n",
       "      <th>std tau</th>\n",
       "      <th>std fwhm</th>\n",
       "      <th>std contract50</th>\n",
       "      <th>std relax50</th>\n",
       "      <th>std fw90m</th>\n",
       "      <th>std contract90</th>\n",
       "      <th>std relax90</th>\n",
       "      <th>trace</th>\n",
       "      <th>max df_f0</th>\n",
       "    </tr>\n",
       "  </thead>\n",
       "  <tbody>\n",
       "    <tr>\n",
       "      <th>30secstim 30sec1Hz Well 1_1</th>\n",
       "      <td>37</td>\n",
       "      <td>40.808615</td>\n",
       "      <td>1.915207</td>\n",
       "      <td>0.171429</td>\n",
       "      <td>1.470278</td>\n",
       "      <td>0.233769</td>\n",
       "      <td>0.371523</td>\n",
       "      <td>0.180118</td>\n",
       "      <td>0.191405</td>\n",
       "      <td>0.627714</td>\n",
       "      <td>...</td>\n",
       "      <td>1.227315</td>\n",
       "      <td>0.011572</td>\n",
       "      <td>0.016808</td>\n",
       "      <td>0.013370</td>\n",
       "      <td>0.010275</td>\n",
       "      <td>0.043860</td>\n",
       "      <td>0.020700</td>\n",
       "      <td>0.028490</td>\n",
       "      <td>&lt;millipillar.Trace object at 0x0000027080D63CD0&gt;</td>\n",
       "      <td>0.210209</td>\n",
       "    </tr>\n",
       "    <tr>\n",
       "      <th>30secstim 30sec1Hz Well 2_1</th>\n",
       "      <td>31</td>\n",
       "      <td>56.836123</td>\n",
       "      <td>1.102689</td>\n",
       "      <td>0.068966</td>\n",
       "      <td>1.055667</td>\n",
       "      <td>0.232953</td>\n",
       "      <td>0.363422</td>\n",
       "      <td>0.172372</td>\n",
       "      <td>0.191050</td>\n",
       "      <td>0.609438</td>\n",
       "      <td>...</td>\n",
       "      <td>0.318577</td>\n",
       "      <td>0.008077</td>\n",
       "      <td>0.010511</td>\n",
       "      <td>0.011762</td>\n",
       "      <td>0.008170</td>\n",
       "      <td>0.017423</td>\n",
       "      <td>0.015643</td>\n",
       "      <td>0.009288</td>\n",
       "      <td>&lt;millipillar.Trace object at 0x000002708249B0A0&gt;</td>\n",
       "      <td>0.194474</td>\n",
       "    </tr>\n",
       "  </tbody>\n",
       "</table>\n",
       "<p>2 rows × 22 columns</p>\n",
       "</div>"
      ],
      "text/plain": [
       "                             num peaks        bpm     RMSSD     pRR50  \\\n",
       "30secstim 30sec1Hz Well 1_1         37  40.808615  1.915207  0.171429   \n",
       "30secstim 30sec1Hz Well 2_1         31  56.836123  1.102689  0.068966   \n",
       "\n",
       "                             avg RR interval   avg tau  avg fwhm  \\\n",
       "30secstim 30sec1Hz Well 1_1         1.470278  0.233769  0.371523   \n",
       "30secstim 30sec1Hz Well 2_1         1.055667  0.232953  0.363422   \n",
       "\n",
       "                             avg contract50  avg relax50  avg fw90m  ...  \\\n",
       "30secstim 30sec1Hz Well 1_1        0.180118     0.191405   0.627714  ...   \n",
       "30secstim 30sec1Hz Well 2_1        0.172372     0.191050   0.609438  ...   \n",
       "\n",
       "                                 SDRR   std tau  std fwhm  std contract50  \\\n",
       "30secstim 30sec1Hz Well 1_1  1.227315  0.011572  0.016808        0.013370   \n",
       "30secstim 30sec1Hz Well 2_1  0.318577  0.008077  0.010511        0.011762   \n",
       "\n",
       "                             std relax50  std fw90m  std contract90  \\\n",
       "30secstim 30sec1Hz Well 1_1     0.010275   0.043860        0.020700   \n",
       "30secstim 30sec1Hz Well 2_1     0.008170   0.017423        0.015643   \n",
       "\n",
       "                             std relax90  \\\n",
       "30secstim 30sec1Hz Well 1_1     0.028490   \n",
       "30secstim 30sec1Hz Well 2_1     0.009288   \n",
       "\n",
       "                                                                        trace  \\\n",
       "30secstim 30sec1Hz Well 1_1  <millipillar.Trace object at 0x0000027080D63CD0>   \n",
       "30secstim 30sec1Hz Well 2_1  <millipillar.Trace object at 0x000002708249B0A0>   \n",
       "\n",
       "                             max df_f0  \n",
       "30secstim 30sec1Hz Well 1_1   0.210209  \n",
       "30secstim 30sec1Hz Well 2_1   0.194474  \n",
       "\n",
       "[2 rows x 22 columns]"
      ]
     },
     "execution_count": 51,
     "metadata": {},
     "output_type": "execute_result"
    }
   ],
   "source": [
    "#looking at a sample peak_summary for one of the traces\n",
    "df_f0 = pd.DataFrame([t.df_f0 for t in total_summary[\"trace\"]])\n",
    "df_f0.index = total_summary.index\n",
    "total_summary[\"max df_f0\"] = df_f0.max(axis=1)\n",
    "total_summary"
   ]
  },
  {
   "cell_type": "markdown",
   "metadata": {},
   "source": [
    "### Save these results to csv files"
   ]
  },
  {
   "cell_type": "code",
   "execution_count": 4,
   "metadata": {
    "ExecuteTime": {
     "end_time": "2021-05-10T19:22:04.799599Z",
     "start_time": "2021-05-10T19:22:04.782607Z"
    }
   },
   "outputs": [],
   "source": [
    "file_name = \"summary.csv\""
   ]
  },
  {
   "cell_type": "markdown",
   "metadata": {
    "ExecuteTime": {
     "end_time": "2021-02-16T04:05:48.484548Z",
     "start_time": "2021-02-16T04:05:48.481619Z"
    }
   },
   "source": [
    "#### save general summary"
   ]
  },
  {
   "cell_type": "code",
   "execution_count": 5,
   "metadata": {
    "ExecuteTime": {
     "end_time": "2021-05-10T19:22:05.840437Z",
     "start_time": "2021-05-10T19:22:05.780472Z"
    },
    "scrolled": false
   },
   "outputs": [],
   "source": [
    "total_summary.to_csv(os.path.join(folder_path, file_name))\n"
   ]
  },
  {
   "cell_type": "markdown",
   "metadata": {},
   "source": [
    "### save df/f0"
   ]
  },
  {
   "cell_type": "code",
   "execution_count": 5,
   "metadata": {
    "ExecuteTime": {
     "end_time": "2021-05-10T19:22:07.881867Z",
     "start_time": "2021-05-10T19:22:07.525435Z"
    }
   },
   "outputs": [],
   "source": [
    "#looking at a sample peak_summary for one of the traces\n",
    "df_f0 = pd.DataFrame([t.df_f0 for t in total_summary[\"trace\"]])\n",
    "df_f0.index = total_summary.index\n",
    "df_f0.to_csv(os.path.join(folder_path, \"df_f0 trace.csv\"))"
   ]
  },
  {
   "cell_type": "markdown",
   "metadata": {},
   "source": [
    "#### save summary for each individual video"
   ]
  },
  {
   "cell_type": "code",
   "execution_count": 15,
   "metadata": {
    "ExecuteTime": {
     "end_time": "2021-02-16T04:06:20.303898Z",
     "start_time": "2021-02-16T04:06:20.299991Z"
    }
   },
   "outputs": [],
   "source": [
    "total_summary['trace'].apply(lambda row: row.peak_summary().to_csv(os.path.join(folder_path, row.name+\".csv\")));"
   ]
  },
  {
   "cell_type": "markdown",
   "metadata": {},
   "source": [
    "### More detailed information for each video"
   ]
  },
  {
   "cell_type": "code",
   "execution_count": 4,
   "metadata": {
    "ExecuteTime": {
     "end_time": "2021-02-16T15:19:17.937266Z",
     "start_time": "2021-02-16T15:19:17.922617Z"
    },
    "scrolled": false
   },
   "outputs": [
    {
     "data": {
      "text/html": [
       "<div>\n",
       "<style scoped>\n",
       "    .dataframe tbody tr th:only-of-type {\n",
       "        vertical-align: middle;\n",
       "    }\n",
       "\n",
       "    .dataframe tbody tr th {\n",
       "        vertical-align: top;\n",
       "    }\n",
       "\n",
       "    .dataframe thead th {\n",
       "        text-align: right;\n",
       "    }\n",
       "</style>\n",
       "<table border=\"1\" class=\"dataframe\">\n",
       "  <thead>\n",
       "    <tr style=\"text-align: right;\">\n",
       "      <th></th>\n",
       "      <th>peak</th>\n",
       "      <th>peak_index</th>\n",
       "      <th>tau</th>\n",
       "      <th>fwhm</th>\n",
       "      <th>contract50</th>\n",
       "      <th>relax50</th>\n",
       "      <th>fw90m</th>\n",
       "      <th>contract90</th>\n",
       "      <th>relax90</th>\n",
       "    </tr>\n",
       "  </thead>\n",
       "  <tbody>\n",
       "    <tr>\n",
       "      <th>0</th>\n",
       "      <td>4.86</td>\n",
       "      <td>486</td>\n",
       "      <td>0.246370</td>\n",
       "      <td>0.403848</td>\n",
       "      <td>0.202389</td>\n",
       "      <td>0.201459</td>\n",
       "      <td>0.706727</td>\n",
       "      <td>0.283902</td>\n",
       "      <td>0.422825</td>\n",
       "    </tr>\n",
       "    <tr>\n",
       "      <th>1</th>\n",
       "      <td>12.22</td>\n",
       "      <td>1222</td>\n",
       "      <td>0.253663</td>\n",
       "      <td>0.409756</td>\n",
       "      <td>0.208675</td>\n",
       "      <td>0.201080</td>\n",
       "      <td>0.795868</td>\n",
       "      <td>0.283833</td>\n",
       "      <td>0.512034</td>\n",
       "    </tr>\n",
       "    <tr>\n",
       "      <th>2</th>\n",
       "      <td>16.08</td>\n",
       "      <td>1608</td>\n",
       "      <td>0.235582</td>\n",
       "      <td>0.395963</td>\n",
       "      <td>0.206091</td>\n",
       "      <td>0.189871</td>\n",
       "      <td>0.683005</td>\n",
       "      <td>0.277279</td>\n",
       "      <td>0.405725</td>\n",
       "    </tr>\n",
       "    <tr>\n",
       "      <th>3</th>\n",
       "      <td>19.12</td>\n",
       "      <td>1912</td>\n",
       "      <td>0.268715</td>\n",
       "      <td>0.403478</td>\n",
       "      <td>0.184248</td>\n",
       "      <td>0.219230</td>\n",
       "      <td>0.740704</td>\n",
       "      <td>0.251172</td>\n",
       "      <td>0.489531</td>\n",
       "    </tr>\n",
       "    <tr>\n",
       "      <th>4</th>\n",
       "      <td>21.95</td>\n",
       "      <td>2195</td>\n",
       "      <td>0.242178</td>\n",
       "      <td>0.396074</td>\n",
       "      <td>0.198356</td>\n",
       "      <td>0.197719</td>\n",
       "      <td>0.677727</td>\n",
       "      <td>0.265539</td>\n",
       "      <td>0.412188</td>\n",
       "    </tr>\n",
       "    <tr>\n",
       "      <th>5</th>\n",
       "      <td>24.63</td>\n",
       "      <td>2463</td>\n",
       "      <td>0.254017</td>\n",
       "      <td>0.394411</td>\n",
       "      <td>0.184264</td>\n",
       "      <td>0.210148</td>\n",
       "      <td>0.669416</td>\n",
       "      <td>0.250762</td>\n",
       "      <td>0.418654</td>\n",
       "    </tr>\n",
       "    <tr>\n",
       "      <th>6</th>\n",
       "      <td>27.36</td>\n",
       "      <td>2736</td>\n",
       "      <td>0.255248</td>\n",
       "      <td>0.392151</td>\n",
       "      <td>0.179909</td>\n",
       "      <td>0.212242</td>\n",
       "      <td>0.657764</td>\n",
       "      <td>0.243907</td>\n",
       "      <td>0.413856</td>\n",
       "    </tr>\n",
       "    <tr>\n",
       "      <th>7</th>\n",
       "      <td>28.84</td>\n",
       "      <td>2884</td>\n",
       "      <td>0.242775</td>\n",
       "      <td>0.394164</td>\n",
       "      <td>0.193739</td>\n",
       "      <td>0.200425</td>\n",
       "      <td>0.658496</td>\n",
       "      <td>0.252089</td>\n",
       "      <td>0.406406</td>\n",
       "    </tr>\n",
       "    <tr>\n",
       "      <th>8</th>\n",
       "      <td>29.83</td>\n",
       "      <td>2983</td>\n",
       "      <td>0.238548</td>\n",
       "      <td>0.386998</td>\n",
       "      <td>0.190146</td>\n",
       "      <td>0.196851</td>\n",
       "      <td>0.633225</td>\n",
       "      <td>0.243774</td>\n",
       "      <td>0.389451</td>\n",
       "    </tr>\n",
       "    <tr>\n",
       "      <th>9</th>\n",
       "      <td>30.83</td>\n",
       "      <td>3083</td>\n",
       "      <td>0.227112</td>\n",
       "      <td>0.380345</td>\n",
       "      <td>0.194092</td>\n",
       "      <td>0.186254</td>\n",
       "      <td>0.628263</td>\n",
       "      <td>0.244743</td>\n",
       "      <td>0.383520</td>\n",
       "    </tr>\n",
       "    <tr>\n",
       "      <th>10</th>\n",
       "      <td>31.82</td>\n",
       "      <td>3182</td>\n",
       "      <td>0.234648</td>\n",
       "      <td>0.378947</td>\n",
       "      <td>0.186160</td>\n",
       "      <td>0.192787</td>\n",
       "      <td>0.628390</td>\n",
       "      <td>0.235834</td>\n",
       "      <td>0.392556</td>\n",
       "    </tr>\n",
       "    <tr>\n",
       "      <th>11</th>\n",
       "      <td>32.81</td>\n",
       "      <td>3281</td>\n",
       "      <td>0.239824</td>\n",
       "      <td>0.376366</td>\n",
       "      <td>0.177807</td>\n",
       "      <td>0.198559</td>\n",
       "      <td>0.624403</td>\n",
       "      <td>0.226408</td>\n",
       "      <td>0.397994</td>\n",
       "    </tr>\n",
       "    <tr>\n",
       "      <th>12</th>\n",
       "      <td>33.82</td>\n",
       "      <td>3382</td>\n",
       "      <td>0.225108</td>\n",
       "      <td>0.373194</td>\n",
       "      <td>0.188659</td>\n",
       "      <td>0.184536</td>\n",
       "      <td>0.613611</td>\n",
       "      <td>0.236443</td>\n",
       "      <td>0.377168</td>\n",
       "    </tr>\n",
       "    <tr>\n",
       "      <th>13</th>\n",
       "      <td>34.82</td>\n",
       "      <td>3482</td>\n",
       "      <td>0.226858</td>\n",
       "      <td>0.374712</td>\n",
       "      <td>0.190032</td>\n",
       "      <td>0.184680</td>\n",
       "      <td>0.627167</td>\n",
       "      <td>0.237412</td>\n",
       "      <td>0.389755</td>\n",
       "    </tr>\n",
       "    <tr>\n",
       "      <th>14</th>\n",
       "      <td>35.82</td>\n",
       "      <td>3582</td>\n",
       "      <td>0.220952</td>\n",
       "      <td>0.371740</td>\n",
       "      <td>0.190443</td>\n",
       "      <td>0.181296</td>\n",
       "      <td>0.614596</td>\n",
       "      <td>0.237321</td>\n",
       "      <td>0.377275</td>\n",
       "    </tr>\n",
       "    <tr>\n",
       "      <th>15</th>\n",
       "      <td>36.81</td>\n",
       "      <td>3681</td>\n",
       "      <td>0.230391</td>\n",
       "      <td>0.369354</td>\n",
       "      <td>0.180264</td>\n",
       "      <td>0.189090</td>\n",
       "      <td>0.610603</td>\n",
       "      <td>0.227582</td>\n",
       "      <td>0.383020</td>\n",
       "    </tr>\n",
       "    <tr>\n",
       "      <th>16</th>\n",
       "      <td>37.82</td>\n",
       "      <td>3782</td>\n",
       "      <td>0.221923</td>\n",
       "      <td>0.369568</td>\n",
       "      <td>0.191226</td>\n",
       "      <td>0.178342</td>\n",
       "      <td>0.615831</td>\n",
       "      <td>0.238501</td>\n",
       "      <td>0.377330</td>\n",
       "    </tr>\n",
       "    <tr>\n",
       "      <th>17</th>\n",
       "      <td>38.80</td>\n",
       "      <td>3880</td>\n",
       "      <td>0.238087</td>\n",
       "      <td>0.368219</td>\n",
       "      <td>0.170975</td>\n",
       "      <td>0.197245</td>\n",
       "      <td>0.609922</td>\n",
       "      <td>0.218201</td>\n",
       "      <td>0.391722</td>\n",
       "    </tr>\n",
       "    <tr>\n",
       "      <th>18</th>\n",
       "      <td>39.81</td>\n",
       "      <td>3981</td>\n",
       "      <td>0.226849</td>\n",
       "      <td>0.367457</td>\n",
       "      <td>0.182193</td>\n",
       "      <td>0.185264</td>\n",
       "      <td>0.607602</td>\n",
       "      <td>0.229437</td>\n",
       "      <td>0.378165</td>\n",
       "    </tr>\n",
       "    <tr>\n",
       "      <th>19</th>\n",
       "      <td>40.82</td>\n",
       "      <td>4082</td>\n",
       "      <td>0.214914</td>\n",
       "      <td>0.365356</td>\n",
       "      <td>0.192111</td>\n",
       "      <td>0.173245</td>\n",
       "      <td>0.606691</td>\n",
       "      <td>0.239170</td>\n",
       "      <td>0.367521</td>\n",
       "    </tr>\n",
       "    <tr>\n",
       "      <th>20</th>\n",
       "      <td>41.80</td>\n",
       "      <td>4180</td>\n",
       "      <td>0.234847</td>\n",
       "      <td>0.364623</td>\n",
       "      <td>0.171676</td>\n",
       "      <td>0.192947</td>\n",
       "      <td>0.608819</td>\n",
       "      <td>0.219588</td>\n",
       "      <td>0.389230</td>\n",
       "    </tr>\n",
       "    <tr>\n",
       "      <th>21</th>\n",
       "      <td>42.80</td>\n",
       "      <td>4280</td>\n",
       "      <td>0.231763</td>\n",
       "      <td>0.364196</td>\n",
       "      <td>0.172989</td>\n",
       "      <td>0.191207</td>\n",
       "      <td>0.604783</td>\n",
       "      <td>0.219946</td>\n",
       "      <td>0.384837</td>\n",
       "    </tr>\n",
       "    <tr>\n",
       "      <th>22</th>\n",
       "      <td>43.79</td>\n",
       "      <td>4379</td>\n",
       "      <td>0.241009</td>\n",
       "      <td>0.362211</td>\n",
       "      <td>0.162953</td>\n",
       "      <td>0.199258</td>\n",
       "      <td>0.607610</td>\n",
       "      <td>0.210350</td>\n",
       "      <td>0.397261</td>\n",
       "    </tr>\n",
       "    <tr>\n",
       "      <th>23</th>\n",
       "      <td>44.80</td>\n",
       "      <td>4480</td>\n",
       "      <td>0.230911</td>\n",
       "      <td>0.361903</td>\n",
       "      <td>0.173595</td>\n",
       "      <td>0.188308</td>\n",
       "      <td>0.605233</td>\n",
       "      <td>0.220806</td>\n",
       "      <td>0.384427</td>\n",
       "    </tr>\n",
       "    <tr>\n",
       "      <th>24</th>\n",
       "      <td>45.81</td>\n",
       "      <td>4581</td>\n",
       "      <td>0.218888</td>\n",
       "      <td>0.360191</td>\n",
       "      <td>0.183776</td>\n",
       "      <td>0.176415</td>\n",
       "      <td>0.602615</td>\n",
       "      <td>0.230813</td>\n",
       "      <td>0.371802</td>\n",
       "    </tr>\n",
       "    <tr>\n",
       "      <th>25</th>\n",
       "      <td>46.81</td>\n",
       "      <td>4681</td>\n",
       "      <td>0.217435</td>\n",
       "      <td>0.359995</td>\n",
       "      <td>0.184499</td>\n",
       "      <td>0.175495</td>\n",
       "      <td>0.604330</td>\n",
       "      <td>0.231673</td>\n",
       "      <td>0.372657</td>\n",
       "    </tr>\n",
       "    <tr>\n",
       "      <th>26</th>\n",
       "      <td>47.78</td>\n",
       "      <td>4778</td>\n",
       "      <td>0.245570</td>\n",
       "      <td>0.359888</td>\n",
       "      <td>0.154529</td>\n",
       "      <td>0.205359</td>\n",
       "      <td>0.604484</td>\n",
       "      <td>0.201615</td>\n",
       "      <td>0.402869</td>\n",
       "    </tr>\n",
       "    <tr>\n",
       "      <th>27</th>\n",
       "      <td>48.79</td>\n",
       "      <td>4879</td>\n",
       "      <td>0.233756</td>\n",
       "      <td>0.357991</td>\n",
       "      <td>0.165144</td>\n",
       "      <td>0.192847</td>\n",
       "      <td>0.599393</td>\n",
       "      <td>0.212132</td>\n",
       "      <td>0.387260</td>\n",
       "    </tr>\n",
       "    <tr>\n",
       "      <th>28</th>\n",
       "      <td>49.79</td>\n",
       "      <td>4979</td>\n",
       "      <td>0.231469</td>\n",
       "      <td>0.355941</td>\n",
       "      <td>0.165209</td>\n",
       "      <td>0.190732</td>\n",
       "      <td>0.599705</td>\n",
       "      <td>0.212333</td>\n",
       "      <td>0.387372</td>\n",
       "    </tr>\n",
       "    <tr>\n",
       "      <th>29</th>\n",
       "      <td>50.80</td>\n",
       "      <td>5080</td>\n",
       "      <td>0.224464</td>\n",
       "      <td>0.358685</td>\n",
       "      <td>0.175945</td>\n",
       "      <td>0.182740</td>\n",
       "      <td>0.606946</td>\n",
       "      <td>0.223048</td>\n",
       "      <td>0.383898</td>\n",
       "    </tr>\n",
       "    <tr>\n",
       "      <th>30</th>\n",
       "      <td>51.79</td>\n",
       "      <td>5179</td>\n",
       "      <td>0.229078</td>\n",
       "      <td>0.355393</td>\n",
       "      <td>0.166362</td>\n",
       "      <td>0.189030</td>\n",
       "      <td>0.595101</td>\n",
       "      <td>0.213287</td>\n",
       "      <td>0.381815</td>\n",
       "    </tr>\n",
       "    <tr>\n",
       "      <th>31</th>\n",
       "      <td>52.79</td>\n",
       "      <td>5279</td>\n",
       "      <td>0.228836</td>\n",
       "      <td>0.354493</td>\n",
       "      <td>0.166513</td>\n",
       "      <td>0.187980</td>\n",
       "      <td>0.600710</td>\n",
       "      <td>0.213867</td>\n",
       "      <td>0.386844</td>\n",
       "    </tr>\n",
       "    <tr>\n",
       "      <th>32</th>\n",
       "      <td>53.78</td>\n",
       "      <td>5378</td>\n",
       "      <td>0.238518</td>\n",
       "      <td>0.353458</td>\n",
       "      <td>0.156700</td>\n",
       "      <td>0.196757</td>\n",
       "      <td>0.594198</td>\n",
       "      <td>0.203552</td>\n",
       "      <td>0.390646</td>\n",
       "    </tr>\n",
       "    <tr>\n",
       "      <th>33</th>\n",
       "      <td>54.79</td>\n",
       "      <td>5479</td>\n",
       "      <td>0.226105</td>\n",
       "      <td>0.351661</td>\n",
       "      <td>0.167435</td>\n",
       "      <td>0.184226</td>\n",
       "      <td>0.597084</td>\n",
       "      <td>0.214772</td>\n",
       "      <td>0.382312</td>\n",
       "    </tr>\n",
       "    <tr>\n",
       "      <th>34</th>\n",
       "      <td>55.79</td>\n",
       "      <td>5579</td>\n",
       "      <td>0.226657</td>\n",
       "      <td>0.351807</td>\n",
       "      <td>0.168063</td>\n",
       "      <td>0.183744</td>\n",
       "      <td>0.601727</td>\n",
       "      <td>0.215335</td>\n",
       "      <td>0.386392</td>\n",
       "    </tr>\n",
       "    <tr>\n",
       "      <th>35</th>\n",
       "      <td>56.79</td>\n",
       "      <td>5679</td>\n",
       "      <td>0.223393</td>\n",
       "      <td>0.349725</td>\n",
       "      <td>0.168046</td>\n",
       "      <td>0.181679</td>\n",
       "      <td>0.587493</td>\n",
       "      <td>0.215086</td>\n",
       "      <td>0.372408</td>\n",
       "    </tr>\n",
       "    <tr>\n",
       "      <th>36</th>\n",
       "      <td>57.79</td>\n",
       "      <td>5779</td>\n",
       "      <td>0.222979</td>\n",
       "      <td>0.352089</td>\n",
       "      <td>0.169167</td>\n",
       "      <td>0.182922</td>\n",
       "      <td>0.595191</td>\n",
       "      <td>0.215441</td>\n",
       "      <td>0.379749</td>\n",
       "    </tr>\n",
       "  </tbody>\n",
       "</table>\n",
       "</div>"
      ],
      "text/plain": [
       "     peak  peak_index       tau      fwhm  contract50   relax50     fw90m  \\\n",
       "0    4.86         486  0.246370  0.403848    0.202389  0.201459  0.706727   \n",
       "1   12.22        1222  0.253663  0.409756    0.208675  0.201080  0.795868   \n",
       "2   16.08        1608  0.235582  0.395963    0.206091  0.189871  0.683005   \n",
       "3   19.12        1912  0.268715  0.403478    0.184248  0.219230  0.740704   \n",
       "4   21.95        2195  0.242178  0.396074    0.198356  0.197719  0.677727   \n",
       "5   24.63        2463  0.254017  0.394411    0.184264  0.210148  0.669416   \n",
       "6   27.36        2736  0.255248  0.392151    0.179909  0.212242  0.657764   \n",
       "7   28.84        2884  0.242775  0.394164    0.193739  0.200425  0.658496   \n",
       "8   29.83        2983  0.238548  0.386998    0.190146  0.196851  0.633225   \n",
       "9   30.83        3083  0.227112  0.380345    0.194092  0.186254  0.628263   \n",
       "10  31.82        3182  0.234648  0.378947    0.186160  0.192787  0.628390   \n",
       "11  32.81        3281  0.239824  0.376366    0.177807  0.198559  0.624403   \n",
       "12  33.82        3382  0.225108  0.373194    0.188659  0.184536  0.613611   \n",
       "13  34.82        3482  0.226858  0.374712    0.190032  0.184680  0.627167   \n",
       "14  35.82        3582  0.220952  0.371740    0.190443  0.181296  0.614596   \n",
       "15  36.81        3681  0.230391  0.369354    0.180264  0.189090  0.610603   \n",
       "16  37.82        3782  0.221923  0.369568    0.191226  0.178342  0.615831   \n",
       "17  38.80        3880  0.238087  0.368219    0.170975  0.197245  0.609922   \n",
       "18  39.81        3981  0.226849  0.367457    0.182193  0.185264  0.607602   \n",
       "19  40.82        4082  0.214914  0.365356    0.192111  0.173245  0.606691   \n",
       "20  41.80        4180  0.234847  0.364623    0.171676  0.192947  0.608819   \n",
       "21  42.80        4280  0.231763  0.364196    0.172989  0.191207  0.604783   \n",
       "22  43.79        4379  0.241009  0.362211    0.162953  0.199258  0.607610   \n",
       "23  44.80        4480  0.230911  0.361903    0.173595  0.188308  0.605233   \n",
       "24  45.81        4581  0.218888  0.360191    0.183776  0.176415  0.602615   \n",
       "25  46.81        4681  0.217435  0.359995    0.184499  0.175495  0.604330   \n",
       "26  47.78        4778  0.245570  0.359888    0.154529  0.205359  0.604484   \n",
       "27  48.79        4879  0.233756  0.357991    0.165144  0.192847  0.599393   \n",
       "28  49.79        4979  0.231469  0.355941    0.165209  0.190732  0.599705   \n",
       "29  50.80        5080  0.224464  0.358685    0.175945  0.182740  0.606946   \n",
       "30  51.79        5179  0.229078  0.355393    0.166362  0.189030  0.595101   \n",
       "31  52.79        5279  0.228836  0.354493    0.166513  0.187980  0.600710   \n",
       "32  53.78        5378  0.238518  0.353458    0.156700  0.196757  0.594198   \n",
       "33  54.79        5479  0.226105  0.351661    0.167435  0.184226  0.597084   \n",
       "34  55.79        5579  0.226657  0.351807    0.168063  0.183744  0.601727   \n",
       "35  56.79        5679  0.223393  0.349725    0.168046  0.181679  0.587493   \n",
       "36  57.79        5779  0.222979  0.352089    0.169167  0.182922  0.595191   \n",
       "\n",
       "    contract90   relax90  \n",
       "0     0.283902  0.422825  \n",
       "1     0.283833  0.512034  \n",
       "2     0.277279  0.405725  \n",
       "3     0.251172  0.489531  \n",
       "4     0.265539  0.412188  \n",
       "5     0.250762  0.418654  \n",
       "6     0.243907  0.413856  \n",
       "7     0.252089  0.406406  \n",
       "8     0.243774  0.389451  \n",
       "9     0.244743  0.383520  \n",
       "10    0.235834  0.392556  \n",
       "11    0.226408  0.397994  \n",
       "12    0.236443  0.377168  \n",
       "13    0.237412  0.389755  \n",
       "14    0.237321  0.377275  \n",
       "15    0.227582  0.383020  \n",
       "16    0.238501  0.377330  \n",
       "17    0.218201  0.391722  \n",
       "18    0.229437  0.378165  \n",
       "19    0.239170  0.367521  \n",
       "20    0.219588  0.389230  \n",
       "21    0.219946  0.384837  \n",
       "22    0.210350  0.397261  \n",
       "23    0.220806  0.384427  \n",
       "24    0.230813  0.371802  \n",
       "25    0.231673  0.372657  \n",
       "26    0.201615  0.402869  \n",
       "27    0.212132  0.387260  \n",
       "28    0.212333  0.387372  \n",
       "29    0.223048  0.383898  \n",
       "30    0.213287  0.381815  \n",
       "31    0.213867  0.386844  \n",
       "32    0.203552  0.390646  \n",
       "33    0.214772  0.382312  \n",
       "34    0.215335  0.386392  \n",
       "35    0.215086  0.372408  \n",
       "36    0.215441  0.379749  "
      ]
     },
     "execution_count": 4,
     "metadata": {},
     "output_type": "execute_result"
    }
   ],
   "source": [
    "trace = total_summary.iloc[0]['trace']\n",
    "trace.peak_summary()"
   ]
  },
  {
   "cell_type": "code",
   "execution_count": 53,
   "metadata": {
    "ExecuteTime": {
     "end_time": "2021-02-16T13:42:52.196331Z",
     "start_time": "2021-02-16T13:42:52.049843Z"
    }
   },
   "outputs": [
    {
     "data": {
      "text/plain": [
       "<matplotlib.legend.Legend at 0x2708205c220>"
      ]
     },
     "execution_count": 53,
     "metadata": {},
     "output_type": "execute_result"
    },
    {
     "data": {
      "image/png": "[encoded data removed]",
      "text/plain": [
       "<Figure size 432x288 with 1 Axes>"
      ]
     },
     "metadata": {
      "needs_background": "light"
     },
     "output_type": "display_data"
    }
   ],
   "source": [
    "plt.scatter(trace.peaks, trace.df_f0[trace.peaks], label=\"peaks\")\n",
    "plt.plot(trace.df_f0, label=\"df_f0\")\n",
    "plt.legend()"
   ]
  },
  {
   "cell_type": "markdown",
   "metadata": {},
   "source": [
    "# Supplementary Code"
   ]
  },
  {
   "cell_type": "markdown",
   "metadata": {},
   "source": [
    "### calculating df/f0"
   ]
  },
  {
   "cell_type": "code",
   "execution_count": 35,
   "metadata": {
    "ExecuteTime": {
     "end_time": "2021-02-16T07:35:45.222953Z",
     "start_time": "2021-02-16T07:35:45.074476Z"
    },
    "scrolled": true
   },
   "outputs": [
    {
     "data": {
      "text/plain": [
       "<matplotlib.legend.Legend at 0x270824c6e80>"
      ]
     },
     "execution_count": 35,
     "metadata": {},
     "output_type": "execute_result"
    },
    {
     "data": {
      "image/png": "[encoded data removed]",
      "text/plain": [
       "<Figure size 432x288 with 1 Axes>"
      ]
     },
     "metadata": {
      "needs_background": "light"
     },
     "output_type": "display_data"
    }
   ],
   "source": [
    "plt.plot(trace.data, label=\"raw\")\n",
    "plt.plot(trace.baseline, label='f0')\n",
    "plt.scatter(trace.peaks, trace.data[trace.peaks], label='peaks')\n",
    "plt.legend()"
   ]
  },
  {
   "cell_type": "markdown",
   "metadata": {},
   "source": [
    "### accounting for fluorescent decay"
   ]
  },
  {
   "cell_type": "code",
   "execution_count": 36,
   "metadata": {
    "ExecuteTime": {
     "end_time": "2021-02-16T07:31:51.680431Z",
     "start_time": "2021-02-16T07:31:51.633458Z"
    },
    "scrolled": false
   },
   "outputs": [
    {
     "data": {
      "text/plain": [
       "[<matplotlib.lines.Line2D at 0x27082265b50>]"
      ]
     },
     "execution_count": 36,
     "metadata": {},
     "output_type": "execute_result"
    },
    {
     "data": {
      "image/png": "[encoded data removed]",
      "text/plain": [
       "<Figure size 432x288 with 1 Axes>"
      ]
     },
     "metadata": {
      "needs_background": "light"
     },
     "output_type": "display_data"
    }
   ],
   "source": [
    "plt.plot(trace.df_f0)"
   ]
  },
  {
   "cell_type": "code",
   "execution_count": 10,
   "metadata": {
    "ExecuteTime": {
     "end_time": "2021-02-16T07:33:01.650178Z",
     "start_time": "2021-02-16T07:33:01.632094Z"
    }
   },
   "outputs": [
    {
     "data": {
      "text/html": [
       "<div>\n",
       "<style scoped>\n",
       "    .dataframe tbody tr th:only-of-type {\n",
       "        vertical-align: middle;\n",
       "    }\n",
       "\n",
       "    .dataframe tbody tr th {\n",
       "        vertical-align: top;\n",
       "    }\n",
       "\n",
       "    .dataframe thead th {\n",
       "        text-align: right;\n",
       "    }\n",
       "</style>\n",
       "<table border=\"1\" class=\"dataframe\">\n",
       "  <thead>\n",
       "    <tr style=\"text-align: right;\">\n",
       "      <th></th>\n",
       "      <th>std tau</th>\n",
       "      <th>std fwhm</th>\n",
       "      <th>std contract50</th>\n",
       "      <th>std relax50</th>\n",
       "      <th>std fw90m</th>\n",
       "      <th>std contract90</th>\n",
       "      <th>std relax90</th>\n",
       "    </tr>\n",
       "  </thead>\n",
       "  <tbody>\n",
       "    <tr>\n",
       "      <th>30secstim 30sec1Hz Well 1_1\\Full resolution\\30secstim 30sec1Hz Well 1_NDTiffStack</th>\n",
       "      <td>0.011572</td>\n",
       "      <td>0.016808</td>\n",
       "      <td>0.01337</td>\n",
       "      <td>0.010275</td>\n",
       "      <td>0.04386</td>\n",
       "      <td>0.0207</td>\n",
       "      <td>0.02849</td>\n",
       "    </tr>\n",
       "  </tbody>\n",
       "</table>\n",
       "</div>"
      ],
      "text/plain": [
       "                                                     std tau  std fwhm  \\\n",
       "30secstim 30sec1Hz Well 1_1\\Full resolution\\30s...  0.011572  0.016808   \n",
       "\n",
       "                                                    std contract50  \\\n",
       "30secstim 30sec1Hz Well 1_1\\Full resolution\\30s...         0.01337   \n",
       "\n",
       "                                                    std relax50  std fw90m  \\\n",
       "30secstim 30sec1Hz Well 1_1\\Full resolution\\30s...     0.010275    0.04386   \n",
       "\n",
       "                                                    std contract90  \\\n",
       "30secstim 30sec1Hz Well 1_1\\Full resolution\\30s...          0.0207   \n",
       "\n",
       "                                                    std relax90  \n",
       "30secstim 30sec1Hz Well 1_1\\Full resolution\\30s...      0.02849  "
      ]
     },
     "execution_count": 10,
     "metadata": {},
     "output_type": "execute_result"
    }
   ],
   "source": [
    "trace.summary().iloc[[0],15:]"
   ]
  },
  {
   "cell_type": "code",
   "execution_count": null,
   "metadata": {},
   "outputs": [],
   "source": []
  }
 ],
 "metadata": {
  "kernelspec": {
   "display_name": "Python 3",
   "language": "python",
   "name": "python3"
  },
  "language_info": {
   "codemirror_mode": {
    "name": "ipython",
    "version": 3
   },
   "file_extension": ".py",
   "mimetype": "text/x-python",
   "name": "python",
   "nbconvert_exporter": "python",
   "pygments_lexer": "ipython3",
   "version": "3.8.11"
  }
 },
 "nbformat": 4,
 "nbformat_minor": 4
}
